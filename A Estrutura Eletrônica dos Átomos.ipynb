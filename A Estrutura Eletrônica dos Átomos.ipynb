{
 "cells": [
  {
   "cell_type": "markdown",
   "metadata": {},
   "source": [
    "# Da Física Clássica à Teoria Quântica\n",
    "\n",
    "Acreditando que átomos eram bolas elásticas, conseguiram explicar vários fenômenos observados. Mas e a estabilidade das moléculas? Como se ligam e continuam assim?\n",
    "Max Plank por volta de 1900 descobriu que a energia era emitida em pacotes, ou seja, em determinadas quantidades. Uma analogia feita pelo físico Marcelo Gleiser que acho bem legal é a seguinte:\\\n",
    "O motivo de demorarmos tanto a perceber que a energia vem sempre em pacotes é porque vivemos em um mundo de milionários, sem contatos com moedas de 1 centavo. Mas 1 centavo existe e todo o nosso dinheiro é um múltiplo dele.\\\n",
    "\n",
    "## Ondas\n",
    "Uma onda é uma forma de transmitir energia, vibracionalmente. Ela possui um comprimento, frequência e amplitude.\n",
    "\n",
    "<img src=\"onda.png\" width=50% >\n",
    "\n",
    "A sua velocidade pode ser expressa como:\n",
    "\n",
    "\\begin{equation}\n",
    "v = \\lambda f\n",
    "\\end{equation}\n",
    "\n",
    "Em que $\\lambda$ é o comprimento de onda e $f$ a frequência (em Hz).\n",
    "Podemos também escrever da seguinte forma:\n",
    "\n",
    "\\begin{equation}\n",
    "f = \\frac{1}{T}\n",
    "\\end{equation}\n",
    "\n",
    "\\begin{equation}\n",
    "v = \\frac{\\lambda}{T}\n",
    "\\end{equation}\n",
    "\n",
    "Em que T é o período."
   ]
  },
  {
   "cell_type": "code",
   "execution_count": null,
   "metadata": {},
   "outputs": [],
   "source": [
    "#v = lam * f\n",
    "#lam = v/f\n",
    "#f = v/lam"
   ]
  },
  {
   "cell_type": "code",
   "execution_count": 1,
   "metadata": {},
   "outputs": [],
   "source": [
    "#Definindo as funções equivalentes (isolando v, lambda ou f):\n",
    "\n",
    "def velocidade (lam, f):\n",
    "    return lam * f\n",
    "\n",
    "def comprimento (v, f):\n",
    "    return v/f\n",
    "\n",
    "def frequencia (v, lam):\n",
    "    return v/lam\n"
   ]
  },
  {
   "cell_type": "markdown",
   "metadata": {},
   "source": [
    "Exemplo 1 - O comprimento de luz verde tem comprimento próximo a 522nm. Qual o valor de f?\\\n",
    "\n",
    "Velocidade da luz: 3 x 10⁸ m/s."
   ]
  },
  {
   "cell_type": "code",
   "execution_count": 7,
   "metadata": {},
   "outputs": [
    {
     "name": "stdout",
     "output_type": "stream",
     "text": [
      "Frequência =  574712643678160.9\n"
     ]
    }
   ],
   "source": [
    "v = 3e8\n",
    "lam = 522e-9 #1 nano metro = 10^-9 m\n",
    "print('Frequência = ', frequencia (v, lam))"
   ]
  },
  {
   "cell_type": "markdown",
   "metadata": {},
   "source": [
    "Ou seja, passam 574712643678160.9 \"ondas\" a cada segundo por um mesmo ponto.\\\n",
    "\n",
    "Exemplo 2 - Qual o comprimento de onda de uma onda eletromagnética com $f = 3.64 x 10^7$ Hz?"
   ]
  },
  {
   "cell_type": "code",
   "execution_count": 8,
   "metadata": {},
   "outputs": [
    {
     "name": "stdout",
     "output_type": "stream",
     "text": [
      "Comprimento =  8.241758241758241\n"
     ]
    }
   ],
   "source": [
    "f = 3.64e7\n",
    "\n",
    "print('Comprimento = ', comprimento(v, f))"
   ]
  },
  {
   "cell_type": "markdown",
   "metadata": {},
   "source": [
    "# Teoria Quântica de Planck\n",
    "\n",
    "Planck chamou de quantun a menor quantidade de energia que pode ser emitida ou absorvida na forma de radiação eletromagnética. Essa energia pode ser expressa como:\n",
    "\n",
    "\\begin{equation}\n",
    "E = hf\n",
    "\\end{equation}\n",
    "\n",
    "Ou\n",
    "\n",
    "\\begin{equation}\n",
    "E = h\\frac{c}{\\lambda}\n",
    "\\end{equation}\n",
    "\n",
    "Em que $f$ é a frequência, $h$ a constante de Planck, $c$ a velocidade (da luz) e $\\lambda$ o comprimento de onda. Sendo que $h = 6.63 x 10^{-34}$ Jxs."
   ]
  },
  {
   "cell_type": "code",
   "execution_count": 10,
   "metadata": {},
   "outputs": [],
   "source": [
    "def Energia_f(f):\n",
    "    \n",
    "    '''A frequência deve ser em Hz'''\n",
    "    \n",
    "    return 6.63e-34 * f\n",
    "\n",
    "def Energia_l(lam):\n",
    "    \n",
    "    '''O comprimento deve ser em metro'''\n",
    "    \n",
    "    return 6.63e-34 * (3e8/lam)"
   ]
  },
  {
   "cell_type": "markdown",
   "metadata": {},
   "source": [
    "Exemplo 1 - Qual a energia de um fóton com $\\lambda = 5.00 x 10^{4}$ nm (infravermelho) e outro com $\\lambda = 5.00 x 10^{-2}$ nm (raio X)."
   ]
  },
  {
   "cell_type": "code",
   "execution_count": 18,
   "metadata": {},
   "outputs": [
    {
     "name": "stdout",
     "output_type": "stream",
     "text": [
      "Energia do fóton 1:  3.978e-21 j\n",
      "Energia do fóton 2:  3.978e-15 j\n"
     ]
    }
   ],
   "source": [
    "#Como foi dado o comprimento, usaremos Energia_l\n",
    "\n",
    "print('Energia do fóton 1: ',Energia_l(5e-5),'j') #lembrando que foi dado em nm e não em m. Aqui fizemos a \n",
    "print('Energia do fóton 2: ',Energia_l(5e-11),'j') #conversão"
   ]
  },
  {
   "cell_type": "markdown",
   "metadata": {},
   "source": [
    "Exemplo 2 - A energia de um fóton é de $5.87 x 10^{-20} j$. Qual o seu comprimento de onda?"
   ]
  },
  {
   "cell_type": "code",
   "execution_count": 20,
   "metadata": {},
   "outputs": [],
   "source": [
    "#Fazendo uma nova função\n",
    "def Comprimento(E):\n",
    "    return 6.63e-34*3e8/E"
   ]
  },
  {
   "cell_type": "code",
   "execution_count": 25,
   "metadata": {},
   "outputs": [
    {
     "name": "stdout",
     "output_type": "stream",
     "text": [
      "Comprimento de onda:  3388.4156729131173 nm.\n",
      "Comprimento de onda (em m):  3.3884156729131173e-06 m\n"
     ]
    }
   ],
   "source": [
    "print('Comprimento de onda: ', Comprimento(5.87e-20)/1e-9, 'nm.')\n",
    "print('Comprimento de onda (em m): ', Comprimento(5.87e-20), 'm')"
   ]
  },
  {
   "cell_type": "code",
   "execution_count": null,
   "metadata": {},
   "outputs": [],
   "source": []
  },
  {
   "cell_type": "markdown",
   "metadata": {},
   "source": [
    "# Efeito Fotoelétrico\n",
    "\n",
    "Em 1905, Albert Einstein propôs uma solução para o Efeito Fotoelétrico (eletrons são expelidos da superfície de alguns metais quando expostos a uma luz a partir de uma frequência limite).\n",
    "Ele sugeriu que um feixe de luz seria um feixe de partículas, os fótons.\n",
    "Os elétrons estão aprisionados em um metal e para arrancá-los é necessário uma certa frequência suficientemente elevada. Se a frequência dos fótons for tal que $hf$ é exatamente igual à energia para arrancá-los, eles serão apenas arrancados. Se $hf$ for maior que essa energia necessária, eles serão arrancados e vão adquirir energia cinética.\n",
    "Podemos expressar como:\n",
    "\n",
    "\\begin{equation}\n",
    "hf = K + U\n",
    "\\end{equation}\n",
    "\n",
    "Em que U é a energia cinética e K a energia para arrancá-lo, lembrando que $hf$ é a energia que vimos acima. Rearranjando:\n",
    "\n",
    "\\begin{equation}\n",
    "U = hf - K\n",
    "\\end{equation}\n",
    "\n",
    "Ao escrever a equação dessa forma, podemos entender melhor. Quanto mais energético o fóton (maior for  a sua frequência), maior será a energia do elétron expelido.\n",
    "\n",
    "O problema disso é que consideramos a luz agora não como uma onda, mas sim como uma partícula! Como essa explicação é condizente com o que se observa nos experimentos, admite-se que a luz tem as propriedas de onda e partícula! É essa a dualidade tão comentada."
   ]
  },
  {
   "cell_type": "code",
   "execution_count": 13,
   "metadata": {},
   "outputs": [],
   "source": [
    "#Energia cinética do elétron\n",
    "\n",
    "def U(f, K):\n",
    "    ''' f em Hz e K em joule'''\n",
    "    return 6.63e-34 * f - K"
   ]
  },
  {
   "cell_type": "code",
   "execution_count": null,
   "metadata": {},
   "outputs": [],
   "source": []
  },
  {
   "cell_type": "markdown",
   "metadata": {},
   "source": [
    "Fonte do texto:\\\n",
    "CHANG, Raymond. \"Química Geral, conceitos essenciais\". 4 ed. Porto Alegre: AMGH, 2010."
   ]
  },
  {
   "cell_type": "code",
   "execution_count": null,
   "metadata": {},
   "outputs": [],
   "source": []
  }
 ],
 "metadata": {
  "kernelspec": {
   "display_name": "Python 3",
   "language": "python",
   "name": "python3"
  },
  "language_info": {
   "codemirror_mode": {
    "name": "ipython",
    "version": 3
   },
   "file_extension": ".py",
   "mimetype": "text/x-python",
   "name": "python",
   "nbconvert_exporter": "python",
   "pygments_lexer": "ipython3",
   "version": "3.7.3"
  }
 },
 "nbformat": 4,
 "nbformat_minor": 2
}
