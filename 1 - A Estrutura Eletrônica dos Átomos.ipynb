{
 "cells": [
  {
   "cell_type": "markdown",
   "metadata": {},
   "source": [
    "# Da Física Clássica à Teoria Quântica\n",
    "\n",
    "Acreditando que átomos eram bolas elásticas, conseguiram explicar vários fenômenos observados. Mas e a estabilidade das moléculas? Como se ligam e continuam assim?\n",
    "Max Plank por volta de 1900 descobriu que a energia era emitida em pacotes, ou seja, em determinadas quantidades. Uma analogia feita pelo físico Marcelo Gleiser que acho bem legal é a seguinte:\\\n",
    "O motivo de demorarmos tanto a perceber que a energia vem sempre em pacotes é porque vivemos em um mundo de milionários, sem contatos com moedas de 1 centavo. Mas 1 centavo existe e todo o nosso dinheiro é um múltiplo dele.\\\n",
    "\n",
    "## Ondas\n",
    "Uma onda é uma forma de transmitir energia, vibracionalmente. Ela possui um comprimento, frequência e amplitude.\n",
    "\n",
    "<img src=\"onda.png\" width=50% >\n",
    "\n",
    "A sua velocidade pode ser expressa como:\n",
    "\n",
    "\\begin{equation}\n",
    "v = \\lambda f\n",
    "\\end{equation}\n",
    "\n",
    "Em que $\\lambda$ é o comprimento de onda e $f$ a frequência (em Hz).\n",
    "Podemos também escrever da seguinte forma:\n",
    "\n",
    "\\begin{equation}\n",
    "f = \\frac{1}{T}\n",
    "\\end{equation}\n",
    "\n",
    "\\begin{equation}\n",
    "v = \\frac{\\lambda}{T}\n",
    "\\end{equation}\n",
    "\n",
    "Em que T é o período."
   ]
  },
  {
   "cell_type": "code",
   "execution_count": null,
   "metadata": {},
   "outputs": [],
   "source": [
    "#v = lam * f\n",
    "#lam = v/f\n",
    "#f = v/lam"
   ]
  },
  {
   "cell_type": "code",
   "execution_count": 1,
   "metadata": {},
   "outputs": [],
   "source": [
    "#Definindo as funções equivalentes (isolando v, lambda ou f):\n",
    "\n",
    "def velocidade (lam, f):\n",
    "    return lam * f\n",
    "\n",
    "def comprimento (v, f):\n",
    "    return v/f\n",
    "\n",
    "def frequencia (v, lam):\n",
    "    return v/lam\n"
   ]
  },
  {
   "cell_type": "markdown",
   "metadata": {},
   "source": [
    "Exemplo 1 - O comprimento de luz verde tem comprimento próximo a 522nm. Qual o valor de f?\\\n",
    "\n",
    "Velocidade da luz: 3 x 10⁸ m/s."
   ]
  },
  {
   "cell_type": "code",
   "execution_count": 7,
   "metadata": {},
   "outputs": [
    {
     "name": "stdout",
     "output_type": "stream",
     "text": [
      "Frequência =  574712643678160.9\n"
     ]
    }
   ],
   "source": [
    "v = 3e8\n",
    "lam = 522e-9 #1 nano metro = 10^-9 m\n",
    "print('Frequência = ', frequencia (v, lam))"
   ]
  },
  {
   "cell_type": "markdown",
   "metadata": {},
   "source": [
    "Ou seja, passam 574712643678160.9 \"ondas\" a cada segundo por um mesmo ponto.\\\n",
    "\n",
    "Exemplo 2 - Qual o comprimento de onda de uma onda eletromagnética com $f = 3.64 x 10^7$ Hz?"
   ]
  },
  {
   "cell_type": "code",
   "execution_count": 8,
   "metadata": {},
   "outputs": [
    {
     "name": "stdout",
     "output_type": "stream",
     "text": [
      "Comprimento =  8.241758241758241\n"
     ]
    }
   ],
   "source": [
    "f = 3.64e7\n",
    "\n",
    "print('Comprimento = ', comprimento(v, f))"
   ]
  },
  {
   "cell_type": "markdown",
   "metadata": {},
   "source": [
    "# Teoria Quântica de Planck\n",
    "\n",
    "Planck chamou de quantun a menor quantidade de energia que pode ser emitida ou absorvida na forma de radiação eletromagnética. Essa energia pode ser expressa como:\n",
    "\n",
    "\\begin{equation}\n",
    "E = hf\n",
    "\\end{equation}\n",
    "\n",
    "Ou\n",
    "\n",
    "\\begin{equation}\n",
    "E = h\\frac{c}{\\lambda}\n",
    "\\end{equation}\n",
    "\n",
    "Em que $f$ é a frequência, $h$ a constante de Planck, $c$ a velocidade (da luz) e $\\lambda$ o comprimento de onda. Sendo que $h = 6.63 x 10^{-34}$ Jxs."
   ]
  },
  {
   "cell_type": "code",
   "execution_count": 10,
   "metadata": {},
   "outputs": [],
   "source": [
    "def Energia_f(f):\n",
    "    \n",
    "    '''A frequência deve ser em Hz'''\n",
    "    \n",
    "    return 6.63e-34 * f\n",
    "\n",
    "def Energia_l(lam):\n",
    "    \n",
    "    '''O comprimento deve ser em metro'''\n",
    "    \n",
    "    return 6.63e-34 * (3e8/lam)"
   ]
  },
  {
   "cell_type": "markdown",
   "metadata": {},
   "source": [
    "Exemplo 1 - Qual a energia de um fóton com $\\lambda = 5.00 x 10^{4}$ nm (infravermelho) e outro com $\\lambda = 5.00 x 10^{-2}$ nm (raio X)."
   ]
  },
  {
   "cell_type": "code",
   "execution_count": 18,
   "metadata": {},
   "outputs": [
    {
     "name": "stdout",
     "output_type": "stream",
     "text": [
      "Energia do fóton 1:  3.978e-21 j\n",
      "Energia do fóton 2:  3.978e-15 j\n"
     ]
    }
   ],
   "source": [
    "#Como foi dado o comprimento, usaremos Energia_l\n",
    "\n",
    "print('Energia do fóton 1: ',Energia_l(5e-5),'j') #lembrando que foi dado em nm e não em m. Aqui fizemos a \n",
    "print('Energia do fóton 2: ',Energia_l(5e-11),'j') #conversão"
   ]
  },
  {
   "cell_type": "markdown",
   "metadata": {},
   "source": [
    "Exemplo 2 - A energia de um fóton é de $5.87 x 10^{-20} j$. Qual o seu comprimento de onda?"
   ]
  },
  {
   "cell_type": "code",
   "execution_count": 6,
   "metadata": {},
   "outputs": [],
   "source": [
    "#Fazendo uma nova função\n",
    "def Comprimento(E):\n",
    "    return 6.63e-34*3e8/E"
   ]
  },
  {
   "cell_type": "code",
   "execution_count": 25,
   "metadata": {},
   "outputs": [
    {
     "name": "stdout",
     "output_type": "stream",
     "text": [
      "Comprimento de onda:  3388.4156729131173 nm.\n",
      "Comprimento de onda (em m):  3.3884156729131173e-06 m\n"
     ]
    }
   ],
   "source": [
    "print('Comprimento de onda: ', Comprimento(5.87e-20)/1e-9, 'nm.')\n",
    "print('Comprimento de onda (em m): ', Comprimento(5.87e-20), 'm')"
   ]
  },
  {
   "cell_type": "code",
   "execution_count": null,
   "metadata": {},
   "outputs": [],
   "source": []
  },
  {
   "cell_type": "markdown",
   "metadata": {},
   "source": [
    "# Efeito Fotoelétrico\n",
    "\n",
    "Em 1905, Albert Einstein propôs uma solução para o Efeito Fotoelétrico (eletrons são expelidos da superfície de alguns metais quando expostos a uma luz a partir de uma frequência limite).\n",
    "Ele sugeriu que um feixe de luz seria um feixe de partículas, os fótons.\n",
    "Os elétrons estão aprisionados em um metal e para arrancá-los é necessário uma certa frequência suficientemente elevada. Se a frequência dos fótons for tal que $hf$ é exatamente igual à energia para arrancá-los, eles serão apenas arrancados. Se $hf$ for maior que essa energia necessária, eles serão arrancados e vão adquirir energia cinética.\n",
    "Podemos expressar como:\n",
    "\n",
    "\\begin{equation}\n",
    "hf = K + U\n",
    "\\end{equation}\n",
    "\n",
    "Em que U é a energia cinética e K a energia para arrancá-lo, lembrando que $hf$ é a energia que vimos acima. Rearranjando:\n",
    "\n",
    "\\begin{equation}\n",
    "U = hf - K\n",
    "\\end{equation}\n",
    "\n",
    "Ao escrever a equação dessa forma, podemos entender melhor. Quanto mais energético o fóton (maior for  a sua frequência), maior será a energia do elétron expelido.\n",
    "\n",
    "O problema disso é que consideramos a luz agora não como uma onda, mas sim como uma partícula! Como essa explicação é condizente com o que se observa nos experimentos, admite-se que a luz tem as propriedas de onda e partícula! É essa a dualidade tão comentada."
   ]
  },
  {
   "cell_type": "code",
   "execution_count": 13,
   "metadata": {},
   "outputs": [],
   "source": [
    "#Energia cinética do elétron\n",
    "\n",
    "def U(f, K):\n",
    "    ''' f em Hz e K em joule'''\n",
    "    return 6.63e-34 * f - K"
   ]
  },
  {
   "cell_type": "markdown",
   "metadata": {},
   "source": [
    "## Teoria de Bohr do Átomo de Hidrogênio\n",
    "\n",
    "Espectros de emissão são espectros de linhas de radiação emitida pelas substâncias. Para ajudar a explicar isso, Bohr desenvolveu o seu modelo.\\\n",
    "O \"átomo de Bohr\" incluía elétrons movimentando-se em órbitas circulares, mas só podiam estar em determinadas órbitas.\\\n",
    "As energias relativas ao movimento do elétron nas órbitas permitidas deviam ter valores quantizados. Ele demonstrou que o elétron de um átomo de hidrogênio pode apresentar valores de energias dados por:\n",
    "\n",
    "\\begin{equation}\n",
    "E_{n} = -R_{H}(\\frac{1}{n^{2}})\n",
    "\\end{equation}\n",
    "\n",
    "$R_{H}$ é a constante de Rydberg, tal que $R_{H}=2.18x10^{-18}J$. $n$ é o número quântico principal. $n = 1$ é o estado de energia mais estável, chamado de estado/nível fundamental. Para $n > 1$, temos os chamados estados excitados. Nesses estados, o elétron é mais instável.\n",
    "Mas imagine que um elétron tenha saído de um estado $n_{i}$ para um $n_{f}$. Para a diferença de energia, teremos:\n",
    "\n",
    "\\begin{equation}\n",
    "\\Delta E = hf = R_{H}(\\frac{1}{n_{i}^{2}} - \\frac{1}{n_{f}^{2}})\n",
    "\\end{equation}\n",
    "\n",
    "Quando o elétron perde energia, então $n_{i} > n_{f}$. Quando o elétron absorve energia, então $n_{i} < n_{f}$."
   ]
  },
  {
   "cell_type": "code",
   "execution_count": 1,
   "metadata": {},
   "outputs": [],
   "source": [
    "#Fazendo uma função para a energia de determinado nível:\n",
    "\n",
    "def Energia_Bohr(n):\n",
    "    return - 2.18e-18 * (1/(n**2))\n",
    "\n",
    "def DE_Bohr(ni, nf): #D significa Delta --> variação\n",
    "    return 2.18e-18 * (   (1/(ni**2))   -  (1/nf**2)  )"
   ]
  },
  {
   "cell_type": "markdown",
   "metadata": {},
   "source": [
    "Exemplo 1 - Qual o comprimento de onda de um fóton emitido por um elétron que passou do estado $n_{i} = 5$ para $n_{f} = 2$?"
   ]
  },
  {
   "cell_type": "code",
   "execution_count": 5,
   "metadata": {},
   "outputs": [
    {
     "name": "stdout",
     "output_type": "stream",
     "text": [
      "Diferença de energia =  -4.578e-19 J\n"
     ]
    }
   ],
   "source": [
    "#Para resolver, vamos primeiro achar a variação de energia\n",
    "E = DE_Bohr(5,2)\n",
    "print('Diferença de energia = ',E,'J')"
   ]
  },
  {
   "cell_type": "markdown",
   "metadata": {},
   "source": [
    "Pensando na equação abaixo, precisaremos apenas de isolar o comprimento de onda e substituir os valores:\n",
    "\n",
    "\\begin{equation}\n",
    "E = h\\frac{c}{\\lambda}\n",
    "\\end{equation}"
   ]
  },
  {
   "cell_type": "code",
   "execution_count": 14,
   "metadata": {},
   "outputs": [
    {
     "name": "stdout",
     "output_type": "stream",
     "text": [
      "Comprimento de onda do elétron:  4.344692005242464e-07 m\n",
      "Comprimento de onda do elétron (em nm): 434 nm\n"
     ]
    }
   ],
   "source": [
    "import numpy as np\n",
    "#Agora, vamos obter o comprimento de onda usando a função Comprimento(), que fizemos anteriormente.\n",
    "\n",
    "#np.abs nos dá o valor absoluto, ou seja, o módulo.\n",
    "print('Comprimento de onda do elétron: ', Comprimento(np.abs(E)),'m')\n",
    "print('Comprimento de onda do elétron (em nm): {:.0f} nm'.format(Comprimento(np.abs(E)) * 1e9))"
   ]
  },
  {
   "cell_type": "markdown",
   "metadata": {},
   "source": [
    "Exemplo 2 - Qual o comprimento de onda de um fóton emitido durante uma transição de $n_{i} = 6$ para $n_{f} = 4$?"
   ]
  },
  {
   "cell_type": "code",
   "execution_count": 20,
   "metadata": {},
   "outputs": [
    {
     "name": "stdout",
     "output_type": "stream",
     "text": [
      "Comprimento:  2.627669724770642e-06 m\n",
      "Comprimento (em nm): 2628 nm\n"
     ]
    }
   ],
   "source": [
    "#Faremos direto agora\n",
    "print('Comprimento: ', Comprimento(np.abs(DE_Bohr(6,4))),'m')\n",
    "print('Comprimento (em nm): {:.0f} nm'.format(Comprimento(np.abs(DE_Bohr(6,4))) * 1e9))"
   ]
  },
  {
   "cell_type": "markdown",
   "metadata": {},
   "source": [
    "Essas transições dos elétrons do átomo de hidrogênio recebem os nomes de seus descobridores:\n",
    "<img src=\"Níveis de energia.jpg\" width=50% >\n",
    "\n",
    "Fonte da imagem: < http://fisicaquimicanet.blogspot.com/2010/01/atomo-de-hidrogenio-e-estrutura-atomica.html >."
   ]
  },
  {
   "cell_type": "code",
   "execution_count": null,
   "metadata": {},
   "outputs": [],
   "source": []
  },
  {
   "cell_type": "code",
   "execution_count": null,
   "metadata": {},
   "outputs": [],
   "source": []
  },
  {
   "cell_type": "code",
   "execution_count": null,
   "metadata": {},
   "outputs": [],
   "source": []
  },
  {
   "cell_type": "code",
   "execution_count": null,
   "metadata": {},
   "outputs": [],
   "source": []
  },
  {
   "cell_type": "code",
   "execution_count": null,
   "metadata": {},
   "outputs": [],
   "source": []
  },
  {
   "cell_type": "code",
   "execution_count": null,
   "metadata": {},
   "outputs": [],
   "source": []
  },
  {
   "cell_type": "code",
   "execution_count": null,
   "metadata": {},
   "outputs": [],
   "source": []
  },
  {
   "cell_type": "code",
   "execution_count": null,
   "metadata": {},
   "outputs": [],
   "source": []
  },
  {
   "cell_type": "markdown",
   "metadata": {},
   "source": [
    "Fonte do texto:\\\n",
    "CHANG, Raymond. \"Química Geral, conceitos essenciais\". 4 ed. Porto Alegre: AMGH, 2010."
   ]
  },
  {
   "cell_type": "code",
   "execution_count": null,
   "metadata": {},
   "outputs": [],
   "source": []
  }
 ],
 "metadata": {
  "kernelspec": {
   "display_name": "Python 3",
   "language": "python",
   "name": "python3"
  },
  "language_info": {
   "codemirror_mode": {
    "name": "ipython",
    "version": 3
   },
   "file_extension": ".py",
   "mimetype": "text/x-python",
   "name": "python",
   "nbconvert_exporter": "python",
   "pygments_lexer": "ipython3",
   "version": "3.7.3"
  }
 },
 "nbformat": 4,
 "nbformat_minor": 2
}
